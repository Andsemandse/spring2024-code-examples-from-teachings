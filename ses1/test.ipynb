{
 "cells": [
  {
   "cell_type": "code",
   "execution_count": 1,
   "metadata": {},
   "outputs": [
    {
     "data": {
      "text/plain": [
       "[0, 3, 5, 6, 9, 10]"
      ]
     },
     "execution_count": 1,
     "metadata": {},
     "output_type": "execute_result"
    }
   ],
   "source": [
    "[i for i in range(11) if i%3==0 or i%5==0 ]"
   ]
  },
  {
   "cell_type": "code",
   "execution_count": 26,
   "metadata": {},
   "outputs": [],
   "source": [
    "# Library code - Code created by programmer\n",
    "class A:\n",
    "    def __init__(self, name):\n",
    "        self.name = name # 1. instance attribute\n",
    "        self.cpr = 1234\n",
    "\n",
    "    def greeting(self):  # 2. instance method\n",
    "        return self.name\n",
    "    \n",
    "    # 3. property - in the public api it looks like an instance variabel, \n",
    "    #               but in the library code you get the benifits of a method\n",
    "    @property # this is a decorator\n",
    "    def age(self):\n",
    "        return 23\n",
    "    \n",
    "    \n",
    "\n",
    "    # age = property(age) # a different way of using a decorator\n",
    "\n",
    "\n",
    "\n",
    "    \n"
   ]
  },
  {
   "cell_type": "code",
   "execution_count": null,
   "metadata": {},
   "outputs": [],
   "source": [
    "def property(func):\n",
    "    def wrapper(*args):\n",
    "        # here somthing will happen\n",
    "        return func()\n",
    "    return wrapper"
   ]
  },
  {
   "cell_type": "code",
   "execution_count": 27,
   "metadata": {},
   "outputs": [
    {
     "data": {
      "text/plain": [
       "('Claus', 'Claus', 23)"
      ]
     },
     "execution_count": 27,
     "metadata": {},
     "output_type": "execute_result"
    }
   ],
   "source": [
    "# USER code - using the public API\n",
    "\n",
    "a = A('Claus')\n",
    "x = a.name # accessing public instance attribute\n",
    "y = a.greeting() # calling instance method\n",
    "z = a.age = 12\n",
    "x, y, z"
   ]
  },
  {
   "cell_type": "code",
   "execution_count": null,
   "metadata": {},
   "outputs": [],
   "source": []
  }
 ],
 "metadata": {
  "kernelspec": {
   "display_name": ".venv",
   "language": "python",
   "name": "python3"
  },
  "language_info": {
   "codemirror_mode": {
    "name": "ipython",
    "version": 3
   },
   "file_extension": ".py",
   "mimetype": "text/x-python",
   "name": "python",
   "nbconvert_exporter": "python",
   "pygments_lexer": "ipython3",
   "version": "3.12.0"
  }
 },
 "nbformat": 4,
 "nbformat_minor": 2
}
